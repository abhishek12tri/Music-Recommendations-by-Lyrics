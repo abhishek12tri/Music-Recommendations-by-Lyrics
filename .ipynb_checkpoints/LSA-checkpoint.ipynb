{
 "cells": [
  {
   "cell_type": "markdown",
   "metadata": {},
   "source": [
    "# Song Recommendation Based on Lyrics Similarity\n",
    "Latent Sematic Analysis"
   ]
  },
  {
   "cell_type": "code",
   "execution_count": 1,
   "metadata": {
    "collapsed": true
   },
   "outputs": [],
   "source": [
    "import math\n",
    "import pandas as pd\n",
    "import numpy as np\n",
    "\n",
    "import seaborn as sns\n",
    "import matplotlib.pyplot as plt\n",
    "%matplotlib inline\n",
    "\n",
    "from collections import Counter\n",
    "import re\n",
    "from string import punctuation\n",
    "\n",
    "\n",
    "import scipy.linalg as la\n",
    "from sparsesvd import sparsesvd \n",
    "from scipy.sparse import csc_matrix\n",
    "\n",
    "from scipy.spatial.distance import pdist, cdist\n"
   ]
  },
  {
   "cell_type": "code",
   "execution_count": 2,
   "metadata": {},
   "outputs": [
    {
     "data": {
      "text/html": [
       "<div>\n",
       "<style>\n",
       "    .dataframe thead tr:only-child th {\n",
       "        text-align: right;\n",
       "    }\n",
       "\n",
       "    .dataframe thead th {\n",
       "        text-align: left;\n",
       "    }\n",
       "\n",
       "    .dataframe tbody tr th {\n",
       "        vertical-align: top;\n",
       "    }\n",
       "</style>\n",
       "<table border=\"1\" class=\"dataframe\">\n",
       "  <thead>\n",
       "    <tr style=\"text-align: right;\">\n",
       "      <th></th>\n",
       "      <th>artist</th>\n",
       "      <th>song</th>\n",
       "      <th>link</th>\n",
       "      <th>text</th>\n",
       "    </tr>\n",
       "  </thead>\n",
       "  <tbody>\n",
       "    <tr>\n",
       "      <th>0</th>\n",
       "      <td>ABBA</td>\n",
       "      <td>Ahe's My Kind Of Girl</td>\n",
       "      <td>/a/abba/ahes+my+kind+of+girl_20598417.html</td>\n",
       "      <td>Look at her face, it's a wonderful face  \\nAnd...</td>\n",
       "    </tr>\n",
       "    <tr>\n",
       "      <th>1</th>\n",
       "      <td>ABBA</td>\n",
       "      <td>Andante, Andante</td>\n",
       "      <td>/a/abba/andante+andante_20002708.html</td>\n",
       "      <td>Take it easy with me, please  \\nTouch me gentl...</td>\n",
       "    </tr>\n",
       "    <tr>\n",
       "      <th>2</th>\n",
       "      <td>ABBA</td>\n",
       "      <td>As Good As New</td>\n",
       "      <td>/a/abba/as+good+as+new_20003033.html</td>\n",
       "      <td>I'll never know why I had to go  \\nWhy I had t...</td>\n",
       "    </tr>\n",
       "    <tr>\n",
       "      <th>3</th>\n",
       "      <td>ABBA</td>\n",
       "      <td>Bang</td>\n",
       "      <td>/a/abba/bang_20598415.html</td>\n",
       "      <td>Making somebody happy is a question of give an...</td>\n",
       "    </tr>\n",
       "    <tr>\n",
       "      <th>4</th>\n",
       "      <td>ABBA</td>\n",
       "      <td>Bang-A-Boomerang</td>\n",
       "      <td>/a/abba/bang+a+boomerang_20002668.html</td>\n",
       "      <td>Making somebody happy is a question of give an...</td>\n",
       "    </tr>\n",
       "  </tbody>\n",
       "</table>\n",
       "</div>"
      ],
      "text/plain": [
       "  artist                   song                                        link  \\\n",
       "0   ABBA  Ahe's My Kind Of Girl  /a/abba/ahes+my+kind+of+girl_20598417.html   \n",
       "1   ABBA       Andante, Andante       /a/abba/andante+andante_20002708.html   \n",
       "2   ABBA         As Good As New        /a/abba/as+good+as+new_20003033.html   \n",
       "3   ABBA                   Bang                  /a/abba/bang_20598415.html   \n",
       "4   ABBA       Bang-A-Boomerang      /a/abba/bang+a+boomerang_20002668.html   \n",
       "\n",
       "                                                text  \n",
       "0  Look at her face, it's a wonderful face  \\nAnd...  \n",
       "1  Take it easy with me, please  \\nTouch me gentl...  \n",
       "2  I'll never know why I had to go  \\nWhy I had t...  \n",
       "3  Making somebody happy is a question of give an...  \n",
       "4  Making somebody happy is a question of give an...  "
      ]
     },
     "execution_count": 2,
     "metadata": {},
     "output_type": "execute_result"
    }
   ],
   "source": [
    "data = pd.read_csv('lyrics.csv')\n",
    "data.head()"
   ]
  },
  {
   "cell_type": "code",
   "execution_count": 122,
   "metadata": {},
   "outputs": [
    {
     "data": {
      "text/html": [
       "<div>\n",
       "<style>\n",
       "    .dataframe thead tr:only-child th {\n",
       "        text-align: right;\n",
       "    }\n",
       "\n",
       "    .dataframe thead th {\n",
       "        text-align: left;\n",
       "    }\n",
       "\n",
       "    .dataframe tbody tr th {\n",
       "        vertical-align: top;\n",
       "    }\n",
       "</style>\n",
       "<table border=\"1\" class=\"dataframe\">\n",
       "  <thead>\n",
       "    <tr style=\"text-align: right;\">\n",
       "      <th></th>\n",
       "      <th>artist</th>\n",
       "      <th>song</th>\n",
       "      <th>link</th>\n",
       "      <th>text</th>\n",
       "      <th>s-a</th>\n",
       "    </tr>\n",
       "  </thead>\n",
       "  <tbody>\n",
       "    <tr>\n",
       "      <th>0</th>\n",
       "      <td>ABBA</td>\n",
       "      <td>Ahe's My Kind Of Girl</td>\n",
       "      <td>/a/abba/ahes+my+kind+of+girl_20598417.html</td>\n",
       "      <td>Look at her face, it's a wonderful face  \\nAnd...</td>\n",
       "      <td>Ahe's My Kind Of Girl - ABBA</td>\n",
       "    </tr>\n",
       "    <tr>\n",
       "      <th>1</th>\n",
       "      <td>ABBA</td>\n",
       "      <td>Andante, Andante</td>\n",
       "      <td>/a/abba/andante+andante_20002708.html</td>\n",
       "      <td>Take it easy with me, please  \\nTouch me gentl...</td>\n",
       "      <td>Andante, Andante - ABBA</td>\n",
       "    </tr>\n",
       "    <tr>\n",
       "      <th>2</th>\n",
       "      <td>ABBA</td>\n",
       "      <td>As Good As New</td>\n",
       "      <td>/a/abba/as+good+as+new_20003033.html</td>\n",
       "      <td>I'll never know why I had to go  \\nWhy I had t...</td>\n",
       "      <td>As Good As New - ABBA</td>\n",
       "    </tr>\n",
       "    <tr>\n",
       "      <th>3</th>\n",
       "      <td>ABBA</td>\n",
       "      <td>Bang</td>\n",
       "      <td>/a/abba/bang_20598415.html</td>\n",
       "      <td>Making somebody happy is a question of give an...</td>\n",
       "      <td>Bang - ABBA</td>\n",
       "    </tr>\n",
       "    <tr>\n",
       "      <th>4</th>\n",
       "      <td>ABBA</td>\n",
       "      <td>Bang-A-Boomerang</td>\n",
       "      <td>/a/abba/bang+a+boomerang_20002668.html</td>\n",
       "      <td>Making somebody happy is a question of give an...</td>\n",
       "      <td>Bang-A-Boomerang - ABBA</td>\n",
       "    </tr>\n",
       "  </tbody>\n",
       "</table>\n",
       "</div>"
      ],
      "text/plain": [
       "  artist                   song                                        link  \\\n",
       "0   ABBA  Ahe's My Kind Of Girl  /a/abba/ahes+my+kind+of+girl_20598417.html   \n",
       "1   ABBA       Andante, Andante       /a/abba/andante+andante_20002708.html   \n",
       "2   ABBA         As Good As New        /a/abba/as+good+as+new_20003033.html   \n",
       "3   ABBA                   Bang                  /a/abba/bang_20598415.html   \n",
       "4   ABBA       Bang-A-Boomerang      /a/abba/bang+a+boomerang_20002668.html   \n",
       "\n",
       "                                                text  \\\n",
       "0  Look at her face, it's a wonderful face  \\nAnd...   \n",
       "1  Take it easy with me, please  \\nTouch me gentl...   \n",
       "2  I'll never know why I had to go  \\nWhy I had t...   \n",
       "3  Making somebody happy is a question of give an...   \n",
       "4  Making somebody happy is a question of give an...   \n",
       "\n",
       "                            s-a  \n",
       "0  Ahe's My Kind Of Girl - ABBA  \n",
       "1       Andante, Andante - ABBA  \n",
       "2         As Good As New - ABBA  \n",
       "3                   Bang - ABBA  \n",
       "4       Bang-A-Boomerang - ABBA  "
      ]
     },
     "execution_count": 122,
     "metadata": {},
     "output_type": "execute_result"
    }
   ],
   "source": [
    "data['s-a'] = data['song'] + ' - ' + data['artist'] # song name might be duplicated, we use s-a to identify each obs\n",
    "data.head()"
   ]
  },
  {
   "cell_type": "code",
   "execution_count": 123,
   "metadata": {},
   "outputs": [
    {
     "data": {
      "text/plain": [
       "(57650, 5)"
      ]
     },
     "execution_count": 123,
     "metadata": {},
     "output_type": "execute_result"
    }
   ],
   "source": [
    "data.shape"
   ]
  },
  {
   "cell_type": "code",
   "execution_count": 124,
   "metadata": {},
   "outputs": [
    {
     "data": {
      "text/plain": [
       "(5000, 5)"
      ]
     },
     "execution_count": 124,
     "metadata": {},
     "output_type": "execute_result"
    }
   ],
   "source": [
    "# only use first 5000 songs as an example\n",
    "data5000 = data.iloc[:5000, :] \n",
    "data5000.shape"
   ]
  },
  {
   "cell_type": "code",
   "execution_count": 125,
   "metadata": {},
   "outputs": [
    {
     "name": "stdout",
     "output_type": "stream",
     "text": [
      "!\"#$%&'()*+,-./:;<=>?@[\\]^_`{|}~\n"
     ]
    }
   ],
   "source": [
    "print(punctuation)"
   ]
  },
  {
   "cell_type": "code",
   "execution_count": 126,
   "metadata": {},
   "outputs": [],
   "source": [
    "#1 term frequency\n",
    "def tf(docs):\n",
    "    wc_dic = {}\n",
    "    for i in range(docs.shape[0]):\n",
    "        # str.maketrans: If there is a third argument, it must be a string, whose characters will be mapped to None in the result.\n",
    "        name = docs.loc[i, 's-a']\n",
    "        text = docs.loc[i, 'text']\n",
    "        terms = re.sub(r'[^a-zA-Z\\s]','', text).lower().split()\n",
    "     \n",
    "        # filter out stop words\n",
    "        from nltk.corpus import stopwords\n",
    "        stop_words = set(stopwords.words('english'))\n",
    "        terms = [t for t in terms if not t in stop_words]\n",
    "        \n",
    "        count = Counter(terms)\n",
    "        wc_dic[name] = count\n",
    "    df = pd.DataFrame(wc_dic).fillna(0)\n",
    "    return df"
   ]
  },
  {
   "cell_type": "code",
   "execution_count": 127,
   "metadata": {
    "collapsed": true
   },
   "outputs": [],
   "source": [
    "# 2 inverse document frequency \n",
    "def idf(docs): \n",
    "    termf = tf(docs)\n",
    "    docf = (termf > 0).sum(axis=1)\n",
    "    n = len(docs)\n",
    "    return np.log(n/(1+docf))"
   ]
  },
  {
   "cell_type": "code",
   "execution_count": 128,
   "metadata": {
    "collapsed": true
   },
   "outputs": [],
   "source": [
    "# 3 tf-idf table\n",
    "def tf_idf(docs):\n",
    "    return tf(docs).multiply(idf(docs), axis=0)"
   ]
  },
  {
   "cell_type": "code",
   "execution_count": 129,
   "metadata": {},
   "outputs": [],
   "source": [
    "df = tf_idf(data5000)\n",
    "#"
   ]
  },
  {
   "cell_type": "code",
   "execution_count": 130,
   "metadata": {},
   "outputs": [
    {
     "data": {
      "text/plain": [
       "(22544, 5000)"
      ]
     },
     "execution_count": 130,
     "metadata": {},
     "output_type": "execute_result"
    }
   ],
   "source": [
    "df.shape # repeated song"
   ]
  },
  {
   "cell_type": "code",
   "execution_count": 131,
   "metadata": {},
   "outputs": [
    {
     "name": "stdout",
     "output_type": "stream",
     "text": [
      "(100, 22544) (100,) (100, 5000)\n",
      "X shape: (100, 5000)\n"
     ]
    }
   ],
   "source": [
    "k = 100\n",
    "T, s, D = sparsesvd(csc_matrix(df), k)  \n",
    "print(T.shape, s.shape, D.shape) # each col of T is a term; each col of D is a doc\n",
    "X = np.diag(s) @ D # each col is a doc\n",
    "print('X shape:', X.shape)"
   ]
  },
  {
   "cell_type": "code",
   "execution_count": 132,
   "metadata": {},
   "outputs": [
    {
     "name": "stdout",
     "output_type": "stream",
     "text": [
      "q shape: (100, 1)\n"
     ]
    }
   ],
   "source": [
    "new_data = data.iloc[5000:5001, :].reset_index(drop=True)\n",
    "all_terms = tf_idf(new_data) \n",
    "new_sa = new_data['s-a'][0]\n",
    "v = df.join(all_terms).fillna(0)[new_sa] \n",
    "\n",
    "q = (v.T @ T.T @ np.diag(1.0/s)).reshape(-1,1) \n",
    "print('q shape:', q.shape) "
   ]
  },
  {
   "cell_type": "code",
   "execution_count": 133,
   "metadata": {},
   "outputs": [],
   "source": [
    "ranked_reviews = df.columns[np.argsort(cdist(q.T, X.T, 'cosine'))].values[0][::-1]"
   ]
  },
  {
   "cell_type": "code",
   "execution_count": 139,
   "metadata": {},
   "outputs": [
    {
     "name": "stdout",
     "output_type": "stream",
     "text": [
      "========== Current Song ========== \n",
      "\n",
      "< A Big Hunk O' Love - Elvis Presley >\n",
      "----------------------------------------\n",
      "Hey baby, I ain't askin' much of you  \n",
      "No no no no no no no no  \n",
      "Baby, I ain't askin' much of you  \n",
      "Just a big a big a big a hunk o' love will do  \n",
      "  \n",
      "Don't be a stingy little mama  \n",
      "You're 'bout to s\n",
      "...\n",
      "\n",
      "========== Top 5 Recommended ========== \n",
      "\n",
      "001 < Me And My Baby - Chicago >\n",
      "----------------------------------------\n",
      "Roxie.  \n",
      "Look at my baby my baby and me..  \n",
      "  \n",
      "Me and my baby  \n",
      "My baby and me  \n",
      "We're 'bout as happy as babies can be  \n",
      "What if I find  \n",
      "That I'm causght in a storm?  \n",
      "I don't care  \n",
      "My baby's there \n",
      "...\n",
      "\n",
      "002 < River Deep - Mountain High - Cyndi Lauper >\n",
      "----------------------------------------\n",
      "When I was a little girl I had a rag doll  \n",
      "The only doll I've ever owned  \n",
      "Now I love you just the way I loved that rag doll  \n",
      "But only now my love has grown  \n",
      "And it gets stronger in every way  \n",
      "And\n",
      "...\n",
      "\n",
      "003 < Make It Big - Beach Boys >\n",
      "----------------------------------------\n",
      "Make it big  \n",
      "So big  \n",
      "  \n",
      "You can make it big  \n",
      "You can make it bigger than life  \n",
      "See your name spelled right  \n",
      "Up on the bright lights  \n",
      "Bright lights  \n",
      "  \n",
      "Have a little faith in yourself  \n",
      "In every\n",
      "...\n",
      "\n",
      "004 < Baby I - Ariana Grande >\n",
      "----------------------------------------\n",
      "Baby I got love for thee  \n",
      "So deep inside of me I don't know where to start  \n",
      "I love you more than anything  \n",
      "But the words cant even touch what's in my heart  \n",
      "  \n",
      "When I try to explain it I be soundi\n",
      "...\n",
      "\n",
      "005 < Worried Life Blues - Chuck Berry >\n",
      "----------------------------------------\n",
      "Oh lordy Lord, oh lordy Lord  \n",
      "It hurts me so bad for us to part  \n",
      "But someday, baby, I ain't gonna worry my life anymore  \n",
      "  \n",
      "So many nights since you've been gone  \n",
      "I've had to worry my life along  \n",
      "...\n",
      "\n"
     ]
    }
   ],
   "source": [
    "print('='*10, \"Current Song\", '='*10, '\\n')\n",
    "print('<', new_sa, '>')\n",
    "print('-'*40)\n",
    "print(new_data['text'][0][:200])\n",
    "print('...\\n')\n",
    "\n",
    "print('='*10, \"Top 5 Recommended\", '='*10, '\\n')\n",
    "\n",
    "for i, title in enumerate(ranked_reviews[:5]):\n",
    "    print('%03d' % (i+1), '<', title, '>')\n",
    "    print('-'*40)\n",
    "    print(data5000.loc[data5000['s-a'] == title, 'text'].reset_index(drop=True)[0][:200])\n",
    "    print('...\\n')\n"
   ]
  },
  {
   "cell_type": "code",
   "execution_count": null,
   "metadata": {
    "collapsed": true
   },
   "outputs": [],
   "source": []
  }
 ],
 "metadata": {
  "kernelspec": {
   "display_name": "Python 3",
   "language": "python",
   "name": "python3"
  },
  "language_info": {
   "codemirror_mode": {
    "name": "ipython",
    "version": 3
   },
   "file_extension": ".py",
   "mimetype": "text/x-python",
   "name": "python",
   "nbconvert_exporter": "python",
   "pygments_lexer": "ipython3",
   "version": "3.6.1"
  }
 },
 "nbformat": 4,
 "nbformat_minor": 1
}
