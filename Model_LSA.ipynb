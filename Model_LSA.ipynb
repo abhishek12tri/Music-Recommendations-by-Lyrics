{
 "cells": [
  {
   "cell_type": "markdown",
   "metadata": {},
   "source": [
    "# Music Recommendations Based on Lyrics Similarity\n",
    "Latent Sematic Analysis"
   ]
  },
  {
   "cell_type": "code",
   "execution_count": 1,
   "metadata": {
    "collapsed": true
   },
   "outputs": [],
   "source": [
    "import math\n",
    "import pandas as pd\n",
    "import numpy as np\n",
    "\n",
    "import seaborn as sns\n",
    "import matplotlib.pyplot as plt\n",
    "%matplotlib inline\n",
    "\n",
    "from collections import Counter\n",
    "import re\n",
    "from string import punctuation\n",
    "\n",
    "\n",
    "import scipy.linalg as la\n",
    "from sparsesvd import sparsesvd \n",
    "from scipy.sparse import csc_matrix\n",
    "\n",
    "from scipy.spatial.distance import pdist, cdist\n"
   ]
  },
  {
   "cell_type": "code",
   "execution_count": 2,
   "metadata": {},
   "outputs": [
    {
     "data": {
      "text/html": [
       "<div>\n",
       "<style>\n",
       "    .dataframe thead tr:only-child th {\n",
       "        text-align: right;\n",
       "    }\n",
       "\n",
       "    .dataframe thead th {\n",
       "        text-align: left;\n",
       "    }\n",
       "\n",
       "    .dataframe tbody tr th {\n",
       "        vertical-align: top;\n",
       "    }\n",
       "</style>\n",
       "<table border=\"1\" class=\"dataframe\">\n",
       "  <thead>\n",
       "    <tr style=\"text-align: right;\">\n",
       "      <th></th>\n",
       "      <th>artist</th>\n",
       "      <th>song</th>\n",
       "      <th>link</th>\n",
       "      <th>text</th>\n",
       "    </tr>\n",
       "  </thead>\n",
       "  <tbody>\n",
       "    <tr>\n",
       "      <th>0</th>\n",
       "      <td>ABBA</td>\n",
       "      <td>Ahe's My Kind Of Girl</td>\n",
       "      <td>/a/abba/ahes+my+kind+of+girl_20598417.html</td>\n",
       "      <td>Look at her face, it's a wonderful face  \\nAnd...</td>\n",
       "    </tr>\n",
       "    <tr>\n",
       "      <th>1</th>\n",
       "      <td>ABBA</td>\n",
       "      <td>Andante, Andante</td>\n",
       "      <td>/a/abba/andante+andante_20002708.html</td>\n",
       "      <td>Take it easy with me, please  \\nTouch me gentl...</td>\n",
       "    </tr>\n",
       "    <tr>\n",
       "      <th>2</th>\n",
       "      <td>ABBA</td>\n",
       "      <td>As Good As New</td>\n",
       "      <td>/a/abba/as+good+as+new_20003033.html</td>\n",
       "      <td>I'll never know why I had to go  \\nWhy I had t...</td>\n",
       "    </tr>\n",
       "    <tr>\n",
       "      <th>3</th>\n",
       "      <td>ABBA</td>\n",
       "      <td>Bang</td>\n",
       "      <td>/a/abba/bang_20598415.html</td>\n",
       "      <td>Making somebody happy is a question of give an...</td>\n",
       "    </tr>\n",
       "    <tr>\n",
       "      <th>4</th>\n",
       "      <td>ABBA</td>\n",
       "      <td>Bang-A-Boomerang</td>\n",
       "      <td>/a/abba/bang+a+boomerang_20002668.html</td>\n",
       "      <td>Making somebody happy is a question of give an...</td>\n",
       "    </tr>\n",
       "  </tbody>\n",
       "</table>\n",
       "</div>"
      ],
      "text/plain": [
       "  artist                   song                                        link  \\\n",
       "0   ABBA  Ahe's My Kind Of Girl  /a/abba/ahes+my+kind+of+girl_20598417.html   \n",
       "1   ABBA       Andante, Andante       /a/abba/andante+andante_20002708.html   \n",
       "2   ABBA         As Good As New        /a/abba/as+good+as+new_20003033.html   \n",
       "3   ABBA                   Bang                  /a/abba/bang_20598415.html   \n",
       "4   ABBA       Bang-A-Boomerang      /a/abba/bang+a+boomerang_20002668.html   \n",
       "\n",
       "                                                text  \n",
       "0  Look at her face, it's a wonderful face  \\nAnd...  \n",
       "1  Take it easy with me, please  \\nTouch me gentl...  \n",
       "2  I'll never know why I had to go  \\nWhy I had t...  \n",
       "3  Making somebody happy is a question of give an...  \n",
       "4  Making somebody happy is a question of give an...  "
      ]
     },
     "execution_count": 2,
     "metadata": {},
     "output_type": "execute_result"
    }
   ],
   "source": [
    "data = pd.read_csv('lyrics.csv')\n",
    "data.head()"
   ]
  },
  {
   "cell_type": "code",
   "execution_count": 122,
   "metadata": {},
   "outputs": [
    {
     "data": {
      "text/html": [
       "<div>\n",
       "<style>\n",
       "    .dataframe thead tr:only-child th {\n",
       "        text-align: right;\n",
       "    }\n",
       "\n",
       "    .dataframe thead th {\n",
       "        text-align: left;\n",
       "    }\n",
       "\n",
       "    .dataframe tbody tr th {\n",
       "        vertical-align: top;\n",
       "    }\n",
       "</style>\n",
       "<table border=\"1\" class=\"dataframe\">\n",
       "  <thead>\n",
       "    <tr style=\"text-align: right;\">\n",
       "      <th></th>\n",
       "      <th>artist</th>\n",
       "      <th>song</th>\n",
       "      <th>link</th>\n",
       "      <th>text</th>\n",
       "      <th>s-a</th>\n",
       "    </tr>\n",
       "  </thead>\n",
       "  <tbody>\n",
       "    <tr>\n",
       "      <th>0</th>\n",
       "      <td>ABBA</td>\n",
       "      <td>Ahe's My Kind Of Girl</td>\n",
       "      <td>/a/abba/ahes+my+kind+of+girl_20598417.html</td>\n",
       "      <td>Look at her face, it's a wonderful face  \\nAnd...</td>\n",
       "      <td>Ahe's My Kind Of Girl - ABBA</td>\n",
       "    </tr>\n",
       "    <tr>\n",
       "      <th>1</th>\n",
       "      <td>ABBA</td>\n",
       "      <td>Andante, Andante</td>\n",
       "      <td>/a/abba/andante+andante_20002708.html</td>\n",
       "      <td>Take it easy with me, please  \\nTouch me gentl...</td>\n",
       "      <td>Andante, Andante - ABBA</td>\n",
       "    </tr>\n",
       "    <tr>\n",
       "      <th>2</th>\n",
       "      <td>ABBA</td>\n",
       "      <td>As Good As New</td>\n",
       "      <td>/a/abba/as+good+as+new_20003033.html</td>\n",
       "      <td>I'll never know why I had to go  \\nWhy I had t...</td>\n",
       "      <td>As Good As New - ABBA</td>\n",
       "    </tr>\n",
       "    <tr>\n",
       "      <th>3</th>\n",
       "      <td>ABBA</td>\n",
       "      <td>Bang</td>\n",
       "      <td>/a/abba/bang_20598415.html</td>\n",
       "      <td>Making somebody happy is a question of give an...</td>\n",
       "      <td>Bang - ABBA</td>\n",
       "    </tr>\n",
       "    <tr>\n",
       "      <th>4</th>\n",
       "      <td>ABBA</td>\n",
       "      <td>Bang-A-Boomerang</td>\n",
       "      <td>/a/abba/bang+a+boomerang_20002668.html</td>\n",
       "      <td>Making somebody happy is a question of give an...</td>\n",
       "      <td>Bang-A-Boomerang - ABBA</td>\n",
       "    </tr>\n",
       "  </tbody>\n",
       "</table>\n",
       "</div>"
      ],
      "text/plain": [
       "  artist                   song                                        link  \\\n",
       "0   ABBA  Ahe's My Kind Of Girl  /a/abba/ahes+my+kind+of+girl_20598417.html   \n",
       "1   ABBA       Andante, Andante       /a/abba/andante+andante_20002708.html   \n",
       "2   ABBA         As Good As New        /a/abba/as+good+as+new_20003033.html   \n",
       "3   ABBA                   Bang                  /a/abba/bang_20598415.html   \n",
       "4   ABBA       Bang-A-Boomerang      /a/abba/bang+a+boomerang_20002668.html   \n",
       "\n",
       "                                                text  \\\n",
       "0  Look at her face, it's a wonderful face  \\nAnd...   \n",
       "1  Take it easy with me, please  \\nTouch me gentl...   \n",
       "2  I'll never know why I had to go  \\nWhy I had t...   \n",
       "3  Making somebody happy is a question of give an...   \n",
       "4  Making somebody happy is a question of give an...   \n",
       "\n",
       "                            s-a  \n",
       "0  Ahe's My Kind Of Girl - ABBA  \n",
       "1       Andante, Andante - ABBA  \n",
       "2         As Good As New - ABBA  \n",
       "3                   Bang - ABBA  \n",
       "4       Bang-A-Boomerang - ABBA  "
      ]
     },
     "execution_count": 122,
     "metadata": {},
     "output_type": "execute_result"
    }
   ],
   "source": [
    "data['s-a'] = data['song'] + ' - ' + data['artist'] # song name might be duplicated, we use s-a to identify each obs\n",
    "data.head()"
   ]
  },
  {
   "cell_type": "code",
   "execution_count": 123,
   "metadata": {},
   "outputs": [
    {
     "data": {
      "text/plain": [
       "(57650, 5)"
      ]
     },
     "execution_count": 123,
     "metadata": {},
     "output_type": "execute_result"
    }
   ],
   "source": [
    "data.shape"
   ]
  },
  {
   "cell_type": "code",
   "execution_count": 191,
   "metadata": {},
   "outputs": [
    {
     "data": {
      "text/plain": [
       "(10000, 5)"
      ]
     },
     "execution_count": 191,
     "metadata": {},
     "output_type": "execute_result"
    }
   ],
   "source": [
    "# only use first 5000 songs as an example\n",
    "data10000 = data.iloc[:10000, :] \n",
    "data10000.shape"
   ]
  },
  {
   "cell_type": "code",
   "execution_count": 192,
   "metadata": {},
   "outputs": [
    {
     "name": "stdout",
     "output_type": "stream",
     "text": [
      "!\"#$%&'()*+,-./:;<=>?@[\\]^_`{|}~\n"
     ]
    }
   ],
   "source": [
    "print(punctuation)"
   ]
  },
  {
   "cell_type": "code",
   "execution_count": 193,
   "metadata": {},
   "outputs": [],
   "source": [
    "#1 term frequency\n",
    "def tf(docs):\n",
    "    wc_dic = {}\n",
    "    for i in range(docs.shape[0]):\n",
    "        # str.maketrans: If there is a third argument, it must be a string, whose characters will be mapped to None in the result.\n",
    "        name = docs.loc[i, 's-a']\n",
    "        text = docs.loc[i, 'text']\n",
    "        terms = re.sub(r'[^a-zA-Z\\s]','', text).lower().split()\n",
    "     \n",
    "        # filter out stop words\n",
    "        from nltk.corpus import stopwords\n",
    "        stop_words = set(stopwords.words('english'))\n",
    "        terms = [t for t in terms if not t in stop_words]\n",
    "        \n",
    "        count = Counter(terms)\n",
    "        wc_dic[name] = count\n",
    "    df = pd.DataFrame(wc_dic).fillna(0)\n",
    "    return df"
   ]
  },
  {
   "cell_type": "code",
   "execution_count": 194,
   "metadata": {
    "collapsed": true
   },
   "outputs": [],
   "source": [
    "# 2 inverse document frequency \n",
    "def idf(docs): \n",
    "    termf = tf(docs)\n",
    "    docf = (termf > 0).sum(axis=1)\n",
    "    n = len(docs)\n",
    "    return np.log(n/(1+docf))"
   ]
  },
  {
   "cell_type": "code",
   "execution_count": 195,
   "metadata": {
    "collapsed": true
   },
   "outputs": [],
   "source": [
    "# 3 tf-idf table\n",
    "def tf_idf(docs):\n",
    "    return tf(docs).multiply(idf(docs), axis=0)"
   ]
  },
  {
   "cell_type": "code",
   "execution_count": 196,
   "metadata": {},
   "outputs": [],
   "source": [
    "df = tf_idf(data10000)\n",
    "# this could take a few minutes"
   ]
  },
  {
   "cell_type": "code",
   "execution_count": 197,
   "metadata": {},
   "outputs": [
    {
     "data": {
      "text/plain": [
       "(36029, 10000)"
      ]
     },
     "execution_count": 197,
     "metadata": {},
     "output_type": "execute_result"
    }
   ],
   "source": [
    "df.shape"
   ]
  },
  {
   "cell_type": "code",
   "execution_count": 198,
   "metadata": {},
   "outputs": [
    {
     "name": "stdout",
     "output_type": "stream",
     "text": [
      "(100, 36029) (100,) (100, 10000)\n",
      "X shape: (100, 10000)\n"
     ]
    }
   ],
   "source": [
    "k = 100\n",
    "T, s, D = sparsesvd(csc_matrix(df), k)  \n",
    "print(T.shape, s.shape, D.shape) # each col of T is a term; each col of D is a song\n",
    "X = np.diag(s) @ D # each col is a song\n",
    "print('X shape:', X.shape)"
   ]
  },
  {
   "cell_type": "code",
   "execution_count": 199,
   "metadata": {},
   "outputs": [
    {
     "data": {
      "text/html": [
       "<div>\n",
       "<style>\n",
       "    .dataframe thead tr:only-child th {\n",
       "        text-align: right;\n",
       "    }\n",
       "\n",
       "    .dataframe thead th {\n",
       "        text-align: left;\n",
       "    }\n",
       "\n",
       "    .dataframe tbody tr th {\n",
       "        vertical-align: top;\n",
       "    }\n",
       "</style>\n",
       "<table border=\"1\" class=\"dataframe\">\n",
       "  <thead>\n",
       "    <tr style=\"text-align: right;\">\n",
       "      <th></th>\n",
       "      <th>artist</th>\n",
       "      <th>song</th>\n",
       "      <th>link</th>\n",
       "      <th>text</th>\n",
       "      <th>s-a</th>\n",
       "    </tr>\n",
       "  </thead>\n",
       "  <tbody>\n",
       "    <tr>\n",
       "      <th>22979</th>\n",
       "      <td>Adele</td>\n",
       "      <td>Rolling In The Deep</td>\n",
       "      <td>/a/adele/rolling+in+the+deep_20894941.html</td>\n",
       "      <td>There's a fire starting in my heart  \\nReachin...</td>\n",
       "      <td>Rolling In The Deep - Adele</td>\n",
       "    </tr>\n",
       "  </tbody>\n",
       "</table>\n",
       "</div>"
      ],
      "text/plain": [
       "      artist                 song                                        link  \\\n",
       "22979  Adele  Rolling In The Deep  /a/adele/rolling+in+the+deep_20894941.html   \n",
       "\n",
       "                                                    text  \\\n",
       "22979  There's a fire starting in my heart  \\nReachin...   \n",
       "\n",
       "                               s-a  \n",
       "22979  Rolling In The Deep - Adele  "
      ]
     },
     "execution_count": 199,
     "metadata": {},
     "output_type": "execute_result"
    }
   ],
   "source": [
    "data.loc[data['s-a']=='Rolling In The Deep - Adele']"
   ]
  },
  {
   "cell_type": "code",
   "execution_count": 236,
   "metadata": {},
   "outputs": [
    {
     "name": "stdout",
     "output_type": "stream",
     "text": [
      "q shape: (100, 1)\n"
     ]
    }
   ],
   "source": [
    "# input current song\n",
    "new_data = data.loc[data['s-a']=='Rolling In The Deep - Adele'].reset_index(drop=True)\n",
    "all_terms = tf_idf(new_data) \n",
    "new_sa = new_data['s-a'][0]\n",
    "v = df.join(all_terms).fillna(0)[new_sa] \n",
    "\n",
    "q = (v.T @ T.T @ np.diag(1.0/s)).reshape(-1,1) \n",
    "print('q shape:', q.shape) "
   ]
  },
  {
   "cell_type": "code",
   "execution_count": 237,
   "metadata": {},
   "outputs": [],
   "source": [
    "ranked_reviews = df.columns[np.argsort(cdist(q.T, X.T, 'cosine'))].values[0][::-1]"
   ]
  },
  {
   "cell_type": "code",
   "execution_count": 238,
   "metadata": {},
   "outputs": [
    {
     "name": "stdout",
     "output_type": "stream",
     "text": [
      "========== Current Song ========== \n",
      "\n",
      "< Rolling In The Deep - Adele >\n",
      "----------------------------------------\n",
      "There's a fire starting in my heart  \n",
      "Reaching a fever pitch and it's bringing me out the dark  \n",
      "Finally I can see you crystal clear  \n",
      "Go 'head and sell me out and I'll lay your ship bare  \n",
      "See how I leave with every piece of you  \n",
      "Don't underestimate the things that I will do  \n",
      "There's a fire starting in my heart  \n",
      "Reaching a fever pitch and its bringing me out the dark  \n",
      "  \n",
      "The scars of your lov\n",
      "...\n",
      "\n",
      "========== Top 5 Recommended ========== \n",
      "\n",
      "001 < I'm Not Gonna Miss You - Glen Campbell >\n",
      "----------------------------------------\n",
      "I'm still here, but yet I'm gone  \n",
      "I don't play guitar or sing my songs  \n",
      "They never defined who I am  \n",
      "The man that loves you 'til the end  \n",
      "  \n",
      "You're the last person I will love  \n",
      "You're the last face I will recall  \n",
      "And best of all, I'm not gonna miss you  \n",
      "Not gonna miss you  \n",
      "  \n",
      "I'm never gonna hold you like I did  \n",
      "Or say, \"I love you\" to the kids  \n",
      "You're never gonna see it in my eyes  \n",
      "It'\n",
      "...\n",
      "\n",
      "002 < Cherizar - Gino Vannelli >\n",
      "----------------------------------------\n",
      "I'm gonna wait till the sun comes out and  \n",
      "I'm gonna wait till you come and shout it  \n",
      "Cherizar  \n",
      "Cherizar no matter where you are  \n",
      "Cherizar you'll always be my star  \n",
      "Cherizar no matter what you are  \n",
      "Cherizar I'll always be your darlin'  \n",
      "I'm gonna wait till the sun comes out  \n",
      "I'm gonna wait till you come and shout it  \n",
      "We're gonna kiss till the moon is drunk and  \n",
      "We're gonna love till noon \n",
      "...\n",
      "\n",
      "003 < No One's Gonna Love You - Christina Perri >\n",
      "----------------------------------------\n",
      "(Originally by Band of Horses)  \n",
      "  \n",
      "It's looking like a limb torn off  \n",
      "Or altogether just taken apart  \n",
      "We're reeling through an endless fall  \n",
      "We are the ever-living ghost of what once was  \n",
      "  \n",
      "But no one is ever gonna love you more than I do  \n",
      "No one's gonna love you more than I do  \n",
      "  \n",
      "And anything to make you smile  \n",
      "It's a better side of you to admire  \n",
      "But they should never take so long  \n",
      "J\n",
      "...\n",
      "\n",
      "004 < About A Quarter To Nine - Dean Martin >\n",
      "----------------------------------------\n",
      "The stars are gonna twinkle and shine  \n",
      "This evening about a quarter to nine  \n",
      "My loving arms are gonna tenderly twine twee twee twine  \n",
      "Around you around a quarter to nine  \n",
      "I know I won't be late 'cause at half past eight  \n",
      "I'm gonna hurry there  \n",
      "I'll be waiting where the lane begins  \n",
      "Waiting for you on needles and pins  \n",
      "And then the world is gonna be mine oh all mine  \n",
      "This evening about a q\n",
      "...\n",
      "\n",
      "005 < Just To Satisfy You - Glen Campbell >\n",
      "----------------------------------------\n",
      "Someone's gonna get hurt before you're through  \n",
      "Someone's gonna pay for the things you do  \n",
      "How many hearts will break  \n",
      "How many will it take  \n",
      "Just to satisfy you  \n",
      "Just to satisfy-why you  \n",
      "  \n",
      "Another love, another fool, to play your game  \n",
      "Another love, another fool, they're a-all the same  \n",
      "  \n",
      "Someone's gonna get hurt before you're through  \n",
      "Now don't be surprised if that someone is you  \n",
      "Yo\n",
      "...\n",
      "\n"
     ]
    }
   ],
   "source": [
    "print('='*10, \"Current Song\", '='*10, '\\n')\n",
    "print('<', new_sa, '>')\n",
    "print('-'*40)\n",
    "print(new_data['text'][0][:400])\n",
    "print('...\\n')\n",
    "\n",
    "print('='*10, \"Top 5 Recommended\", '='*10, '\\n')\n",
    "\n",
    "for i, title in enumerate(ranked_reviews[:5]):\n",
    "    print('%03d' % (i+1), '<', title, '>')\n",
    "    print('-'*40)\n",
    "    print(data10000.loc[data10000['s-a'] == title, 'text'].reset_index(drop=True)[0][:400])\n",
    "    print('...\\n')\n"
   ]
  },
  {
   "cell_type": "markdown",
   "metadata": {},
   "source": [
    "### Let's try a new song"
   ]
  },
  {
   "cell_type": "code",
   "execution_count": 232,
   "metadata": {},
   "outputs": [
    {
     "data": {
      "text/html": [
       "<div>\n",
       "<style>\n",
       "    .dataframe thead tr:only-child th {\n",
       "        text-align: right;\n",
       "    }\n",
       "\n",
       "    .dataframe thead th {\n",
       "        text-align: left;\n",
       "    }\n",
       "\n",
       "    .dataframe tbody tr th {\n",
       "        vertical-align: top;\n",
       "    }\n",
       "</style>\n",
       "<table border=\"1\" class=\"dataframe\">\n",
       "  <thead>\n",
       "    <tr style=\"text-align: right;\">\n",
       "      <th></th>\n",
       "      <th>artist</th>\n",
       "      <th>song</th>\n",
       "      <th>link</th>\n",
       "      <th>text</th>\n",
       "      <th>s-a</th>\n",
       "    </tr>\n",
       "  </thead>\n",
       "  <tbody>\n",
       "    <tr>\n",
       "      <th>20299</th>\n",
       "      <td>Usher</td>\n",
       "      <td>Dj Got Us Falling In Love</td>\n",
       "      <td>/u/usher/dj+got+us+falling+in+love_20604379.html</td>\n",
       "      <td>Usher (yeah man)  \\nSo we back in the club  \\n...</td>\n",
       "      <td>Dj Got Us Falling In Love - Usher</td>\n",
       "    </tr>\n",
       "  </tbody>\n",
       "</table>\n",
       "</div>"
      ],
      "text/plain": [
       "      artist                       song  \\\n",
       "20299  Usher  Dj Got Us Falling In Love   \n",
       "\n",
       "                                                   link  \\\n",
       "20299  /u/usher/dj+got+us+falling+in+love_20604379.html   \n",
       "\n",
       "                                                    text  \\\n",
       "20299  Usher (yeah man)  \\nSo we back in the club  \\n...   \n",
       "\n",
       "                                     s-a  \n",
       "20299  Dj Got Us Falling In Love - Usher  "
      ]
     },
     "execution_count": 232,
     "metadata": {},
     "output_type": "execute_result"
    }
   ],
   "source": [
    "data.loc[data['s-a']=='Dj Got Us Falling In Love - Usher']"
   ]
  },
  {
   "cell_type": "code",
   "execution_count": 233,
   "metadata": {},
   "outputs": [
    {
     "name": "stdout",
     "output_type": "stream",
     "text": [
      "q shape: (100, 1)\n"
     ]
    }
   ],
   "source": [
    "# input current song\n",
    "new_data = data.loc[data['s-a']=='Dj Got Us Falling In Love - Usher'].reset_index(drop=True)\n",
    "all_terms = tf_idf(new_data) \n",
    "new_sa = new_data['s-a'][0]\n",
    "v = df.join(all_terms).fillna(0)[new_sa] \n",
    "\n",
    "q = (v.T @ T.T @ np.diag(1.0/s)).reshape(-1,1) \n",
    "print('q shape:', q.shape) "
   ]
  },
  {
   "cell_type": "code",
   "execution_count": 234,
   "metadata": {
    "collapsed": true
   },
   "outputs": [],
   "source": [
    "ranked_reviews = df.columns[np.argsort(cdist(q.T, X.T, 'cosine'))].values[0][::-1]"
   ]
  },
  {
   "cell_type": "code",
   "execution_count": 235,
   "metadata": {},
   "outputs": [
    {
     "name": "stdout",
     "output_type": "stream",
     "text": [
      "========== Current Song ========== \n",
      "\n",
      "< Dj Got Us Falling In Love - Usher >\n",
      "----------------------------------------\n",
      "Usher (yeah man)  \n",
      "So we back in the club  \n",
      "With our bodies rockin' from side to side (side to side)  \n",
      "Thank God the week is done  \n",
      "I feel like a zombie goin' back to life (back to life)  \n",
      "Hands up, and suddenly we all got our hands up  \n",
      "No control of my body  \n",
      "Ain't I seen you before?  \n",
      "I think I remember those eyes, eyes, eyes, eyes  \n",
      "  \n",
      "'Cause baby tonight,  \n",
      "The D-J got us falling in love again  \n",
      "Yeah, baby tonight,  \n",
      "The D-J got us falling in love again  \n",
      "So dance, dance,  \n",
      "Like it's the la\n",
      "...\n",
      "\n",
      "========== Top 5 Recommended ========== \n",
      "\n",
      "001 < Love Shines - Fleetwood Mac >\n",
      "----------------------------------------\n",
      "You've got a sweet heart  \n",
      "Never will you be replaced  \n",
      "And it's so hard  \n",
      "The memory can't be erased  \n",
      "Love shines when I think of you  \n",
      "You make it happen  \n",
      "You make it true  \n",
      "(love shines)  \n",
      "Love shines there can be no doubt  \n",
      "What this feeling is all about  \n",
      "Oh baby your  \n",
      "Love shines, love shines so bright  \n",
      "(so bright)  \n",
      "Did you know your  \n",
      "Love shines, love shines so bright  \n",
      "(on and on and on)  \n",
      "On and on it will always be  \n",
      "Rhythm, rhyme, and harmony  \n",
      "Yeah, baby your  \n",
      "Love shines, lov\n",
      "...\n",
      "\n",
      "002 < Who Do You Love - Doors >\n",
      "----------------------------------------\n",
      "I walked 47 miles on barb wire  \n",
      "Cobra snake for a necktie  \n",
      "Built a house by the roadside  \n",
      "Made of rattlesnake hide  \n",
      "Brand new chimney up on top  \n",
      "Made out of human skulls  \n",
      "  \n",
      "Come on baby take a walk with me  \n",
      "Tell me who do you love  \n",
      "Who do you love, now  \n",
      "Who do you love, now  \n",
      "Who do you love, babe  \n",
      "I say who now, who do you love  \n",
      "  \n",
      "Tombstone head and a graveyard mind  \n",
      "Just 22 and I don't mind dying  \n",
      "Rode around the town with a rattlesnake whip  \n",
      "Come on baby don't give me no lip  \n",
      "...\n",
      "\n",
      "003 < I'm In That Kind Of Mood - Alabama >\n",
      "----------------------------------------\n",
      "There's something sexy 'bout the way you're dressed  \n",
      "I can see you're lookin' your best tonight, that's right  \n",
      "You're walkin' with a new attitude  \n",
      "There's something different 'bout the way you're movin' tonight, that's right  \n",
      "But before we walk out the door, let me say one thing more  \n",
      "  \n",
      "Save one last dance for our bedroom  \n",
      "Baby, I'm in that kind of mood  \n",
      "There ain't no tellin' what we might do  \n",
      "When it's all over and the night is through  \n",
      "Baby, how 'bout you, I'm in that kind of mood  \n",
      "...\n",
      "\n",
      "004 < Join Me - HIM >\n",
      "----------------------------------------\n",
      "Baby join me in death  \n",
      "Baby join me in death  \n",
      "Baby join me in death  \n",
      "  \n",
      "We are so young  \n",
      "Our lives have just begun  \n",
      "But already we're considering  \n",
      "Escape from this world  \n",
      "  \n",
      "And we've waited for so long  \n",
      "For this moment to come  \n",
      "We're so anxious to be together  \n",
      "Together in death  \n",
      "  \n",
      "Won't you die tonight for love  \n",
      "Baby join me in death  \n",
      "Won't you die  \n",
      "Baby join me in death  \n",
      "Won't you die tonight for love  \n",
      "Baby join me in death  \n",
      "  \n",
      "This world is a cruel place  \n",
      "And we're here onl\n",
      "...\n",
      "\n",
      "005 < I'll Be Your Baby Tonight - Hollies >\n",
      "----------------------------------------\n",
      "Close your eyes, close the door  \n",
      "You don't have to worry anymore  \n",
      "I'll be your little baby tonight  \n",
      "Shut the light, shut the shade  \n",
      "You don't have to be afraid  \n",
      "I'll be your baby tonight  \n",
      "Well the mockingbird's gonna sail away  \n",
      "You won't regret it  \n",
      "The big fine moon's gonna shine like a spoon  \n",
      "You won't regret, you won't forget  \n",
      "To get your shoes off, do not fear  \n",
      "Bring that bottle over here  \n",
      "I'll be your baby tonight  \n",
      "Well the mockingbird's gonna sail away  \n",
      "You won't regret it  \n",
      "T\n",
      "...\n",
      "\n"
     ]
    }
   ],
   "source": [
    "print('='*10, \"Current Song\", '='*10, '\\n')\n",
    "print('<', new_sa, '>')\n",
    "print('-'*40)\n",
    "print(new_data['text'][0][:500])\n",
    "print('...\\n')\n",
    "\n",
    "print('='*10, \"Top 5 Recommended\", '='*10, '\\n')\n",
    "\n",
    "for i, title in enumerate(ranked_reviews[:5]):\n",
    "    print('%03d' % (i+1), '<', title, '>')\n",
    "    print('-'*40)\n",
    "    print(data10000.loc[data10000['s-a'] == title, 'text'].reset_index(drop=True)[0][:500])\n",
    "    print('...\\n')\n"
   ]
  },
  {
   "cell_type": "code",
   "execution_count": null,
   "metadata": {
    "collapsed": true
   },
   "outputs": [],
   "source": []
  }
 ],
 "metadata": {
  "kernelspec": {
   "display_name": "Python 3",
   "language": "python",
   "name": "python3"
  },
  "language_info": {
   "codemirror_mode": {
    "name": "ipython",
    "version": 3
   },
   "file_extension": ".py",
   "mimetype": "text/x-python",
   "name": "python",
   "nbconvert_exporter": "python",
   "pygments_lexer": "ipython3",
   "version": "3.6.1"
  }
 },
 "nbformat": 4,
 "nbformat_minor": 1
}
